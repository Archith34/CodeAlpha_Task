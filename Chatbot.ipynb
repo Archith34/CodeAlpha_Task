{
  "nbformat": 4,
  "nbformat_minor": 0,
  "metadata": {
    "colab": {
      "provenance": [],
      "authorship_tag": "ABX9TyN47cbCzH90yCmXwEzd2+Dl",
      "include_colab_link": true
    },
    "kernelspec": {
      "name": "python3",
      "display_name": "Python 3"
    },
    "language_info": {
      "name": "python"
    }
  },
  "cells": [
    {
      "cell_type": "markdown",
      "metadata": {
        "id": "view-in-github",
        "colab_type": "text"
      },
      "source": [
        "<a href=\"https://colab.research.google.com/github/Archith34/CodeAlpha_Task/blob/main/Chatbot.ipynb\" target=\"_parent\"><img src=\"https://colab.research.google.com/assets/colab-badge.svg\" alt=\"Open In Colab\"/></a>"
      ]
    },
    {
      "cell_type": "code",
      "execution_count": null,
      "metadata": {
        "colab": {
          "base_uri": "https://localhost:8080/"
        },
        "id": "he0etdcq8-X5",
        "outputId": "7e996c46-f6bd-4a56-9787-6da67e494b27"
      },
      "outputs": [
        {
          "output_type": "stream",
          "name": "stdout",
          "text": [
            "WELCOME TO CHATBOT! ASK ME SOMETHING!\n",
            ">Hi\n",
            "Hey!\n",
            ">How are you\n",
            "I'm fine, WHAT about you?\n",
            ">what is your name?\n",
            "I am a chatbot.\n",
            ">thank you\n",
            "its ok!\n",
            ">python means?\n",
            "Python is an interpreted programming language.\n",
            ">sorry\n",
            "machine cannot any feelings its ok!\n",
            ">what's your favorite color?\n",
            "I don't have a favorite color\n",
            ">what is your age?\n",
            "I am ageless.\n",
            ">Tell me about weather codition?\n",
            "I don't know about the weather, but I can talk about anything!\n",
            ">where are you from?\n",
            "I live in the digital world\n",
            ">Can you help me?\n",
            "Of course! How can I assist you today?\n",
            ">who created you?\n",
            "I was created by a team of amazing developers and researchers.\n",
            ">what do you do?\n",
            "I am here to chat with you any questions you have!\n",
            ">Are you a robot?\n",
            "I am a chatbot powered by artificial intelligence.\n",
            ">bye\n",
            "have a great day!\n",
            ">data means?\n",
            "data is a collection of information\n",
            ">quit\n",
            "None\n"
          ]
        }
      ],
      "source": [
        "import nltk\n",
        "from nltk.chat.util import Chat, reflections\n",
        "pairs = [\n",
        "    (r\"Hi|Hello|Hey\", [\"Hello!\", \"Hey!\"]),\n",
        "    (r\"How are you?\", [\"I'm fine, WHAT about you?\"]),\n",
        "    (r\"what is your name?\", [\"I am a chatbot.\"]),\n",
        "    (r\"thank you\", [\"its ok!\"]),\n",
        "    (r\"python means?\", [\"Python is an interpreted programming language.\"]),\n",
        "    (r\"sorry\",[\"machine cannot any feelings its ok!\"]),\n",
        "    (r\"what's your favorite color?\", [\"I don't have a favorite color\"]),\n",
        "    (r\"what is your age?\", [\"I am ageless.\"]),\n",
        "    (r\"Tell me about weather codition?\", [\"I don't know about the weather, but I can talk about anything!\"]),\n",
        "    (r\"where are you from?\", [\"I live in the digital world\"]),\n",
        "    (r\"Can you help me?\", [\"Of course! How can I assist you today?\"]),\n",
        "    (r\"who created you?\", [\"I was created by a team of amazing developers and researchers.\"]),\n",
        "    (r\"what do you do?\", [\"I am here to chat with you any questions you have!\"]),\n",
        "    (r\"Are you a robot?\", [\"I am a chatbot powered by artificial intelligence.\"]),\n",
        "    (r\"bye\",[\"have a great day!\"]),\n",
        "    (r\"data means?\",[\"data is a collection of information\"]),\n",
        "\n",
        "]\n",
        "chat = Chat(pairs, reflections)\n",
        "def start_chat():\n",
        "    print(\"WELCOME TO CHATBOT! ASK ME SOMETHING!\")\n",
        "    chat.converse()\n",
        "if __name__ == \"__main__\":\n",
        "    start_chat()\n",
        "\n",
        "\n",
        "\n"
      ]
    },
    {
      "cell_type": "code",
      "source": [],
      "metadata": {
        "id": "hjBzbzYz_P4C"
      },
      "execution_count": null,
      "outputs": []
    }
  ]
}